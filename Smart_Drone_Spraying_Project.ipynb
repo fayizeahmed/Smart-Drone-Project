{
 "cells": [
  {
   "cell_type": "markdown",
   "id": "1941ab31",
   "metadata": {},
   "source": [
    "\n",
    "# Smart Pesticide Spraying Drone 🚁🌾\n",
    "\n",
    "This notebook runs on a Raspberry Pi using TensorFlow Lite to detect diseased crops and autonomously spray pesticide using GPIO-controlled pumps.\n",
    "\n",
    "**Hardware Used:** Raspberry Pi 4, Camera, Relay Module, 4 Mini Pumps, KK2.1.5 Flight Controller  \n",
    "**Software Stack:** Python, OpenCV, TensorFlow Lite, RPi.GPIO\n"
   ]
  },
  {
   "cell_type": "code",
   "execution_count": null,
   "id": "e83968d5",
   "metadata": {},
   "outputs": [],
   "source": [
    "\n",
    "import RPi.GPIO as GPIO\n",
    "import time\n",
    "import cv2\n",
    "# TensorFlow Lite integration would go here (e.g., tflite_runtime.interpreter)\n"
   ]
  },
  {
   "cell_type": "code",
   "execution_count": null,
   "id": "392ecc32",
   "metadata": {},
   "outputs": [],
   "source": [
    "\n",
    "GPIO.setmode(GPIO.BCM)\n",
    "\n",
    "# Define relay pins for 4 tanks\n",
    "relay_pins = [17, 18, 27, 22]\n",
    "\n",
    "# Setup all relay pins as output\n",
    "for pin in relay_pins:\n",
    "    GPIO.setup(pin, GPIO.OUT)\n",
    "    GPIO.output(pin, GPIO.HIGH)  # Turn off all pumps initially\n"
   ]
  },
  {
   "cell_type": "code",
   "execution_count": null,
   "id": "e09b3c2e",
   "metadata": {},
   "outputs": [],
   "source": [
    "\n",
    "def spray(pump_index, duration=3):\n",
    "    print(f\"Spraying from Tank {pump_index + 1}\")\n",
    "    GPIO.output(relay_pins[pump_index], GPIO.LOW)\n",
    "    time.sleep(duration)\n",
    "    GPIO.output(relay_pins[pump_index], GPIO.HIGH)\n"
   ]
  },
  {
   "cell_type": "code",
   "execution_count": null,
   "id": "ab73f434",
   "metadata": {},
   "outputs": [],
   "source": [
    "\n",
    "def detect_disease(image_path=None):\n",
    "    # This function simulates a TFLite model output\n",
    "    import random\n",
    "    return random.randint(0, 3)  # Random disease index (0 to 3)\n"
   ]
  },
  {
   "cell_type": "code",
   "execution_count": null,
   "id": "b2dff08e",
   "metadata": {},
   "outputs": [],
   "source": [
    "\n",
    "try:\n",
    "    print(\"Starting smart spraying system...\")\n",
    "\n",
    "    for _ in range(3):  # Simulate 3 detection-spray cycles\n",
    "        detected = detect_disease()\n",
    "        print(f\"Disease type {detected + 1} detected.\")\n",
    "        spray(detected)\n",
    "        time.sleep(5)\n",
    "\n",
    "except KeyboardInterrupt:\n",
    "    print(\"Interrupted by user. Cleaning up...\")\n",
    "\n",
    "finally:\n",
    "    GPIO.cleanup()\n"
   ]
  }
 ],
 "metadata": {},
 "nbformat": 4,
 "nbformat_minor": 5
}
